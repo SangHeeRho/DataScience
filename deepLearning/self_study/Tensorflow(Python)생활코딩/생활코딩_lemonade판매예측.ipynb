{
 "metadata": {
  "language_info": {
   "codemirror_mode": {
    "name": "ipython",
    "version": 3
   },
   "file_extension": ".py",
   "mimetype": "text/x-python",
   "name": "python",
   "nbconvert_exporter": "python",
   "pygments_lexer": "ipython3",
   "version": "3.6.5"
  },
  "orig_nbformat": 4,
  "kernelspec": {
   "name": "python3",
   "display_name": "Python 3.6.5 64-bit ('base': conda)"
  },
  "interpreter": {
   "hash": "e55bb66ab1794c2910d7df6756168b78814621a9f8b3b83bebdd00d3ee78f4c3"
  }
 },
 "nbformat": 4,
 "nbformat_minor": 2,
 "cells": [
  {
   "cell_type": "code",
   "execution_count": 1,
   "metadata": {},
   "outputs": [],
   "source": [
    "#라이브러리 사용\n",
    "import tensorflow as tf\n",
    "import pandas as pd"
   ]
  },
  {
   "cell_type": "code",
   "execution_count": 3,
   "metadata": {},
   "outputs": [
    {
     "output_type": "execute_result",
     "data": {
      "text/plain": [
       "   온도  판매량\n",
       "0  20   40\n",
       "1  21   42\n",
       "2  22   44\n",
       "3  23   46\n",
       "4  24   48"
      ],
      "text/html": "<div>\n<style scoped>\n    .dataframe tbody tr th:only-of-type {\n        vertical-align: middle;\n    }\n\n    .dataframe tbody tr th {\n        vertical-align: top;\n    }\n\n    .dataframe thead th {\n        text-align: right;\n    }\n</style>\n<table border=\"1\" class=\"dataframe\">\n  <thead>\n    <tr style=\"text-align: right;\">\n      <th></th>\n      <th>온도</th>\n      <th>판매량</th>\n    </tr>\n  </thead>\n  <tbody>\n    <tr>\n      <th>0</th>\n      <td>20</td>\n      <td>40</td>\n    </tr>\n    <tr>\n      <th>1</th>\n      <td>21</td>\n      <td>42</td>\n    </tr>\n    <tr>\n      <th>2</th>\n      <td>22</td>\n      <td>44</td>\n    </tr>\n    <tr>\n      <th>3</th>\n      <td>23</td>\n      <td>46</td>\n    </tr>\n    <tr>\n      <th>4</th>\n      <td>24</td>\n      <td>48</td>\n    </tr>\n  </tbody>\n</table>\n</div>"
     },
     "metadata": {},
     "execution_count": 3
    }
   ],
   "source": [
    "#데이터를 준비합니다.\n",
    "ld = pd.read_csv('lemonade.csv')\n",
    "ld.head()"
   ]
  },
  {
   "cell_type": "code",
   "execution_count": 4,
   "metadata": {},
   "outputs": [
    {
     "output_type": "stream",
     "name": "stdout",
     "text": [
      "(6, 1) (6, 1)\n"
     ]
    }
   ],
   "source": [
    "# 종속변수, 독립변수\n",
    "cause = ld[['온도']]\n",
    "effect = ld[['판매량']]\n",
    "print(cause.shape, effect.shape)"
   ]
  },
  {
   "cell_type": "code",
   "execution_count": 6,
   "metadata": {},
   "outputs": [
    {
     "output_type": "stream",
     "name": "stdout",
     "text": [
      "WARNING:tensorflow:From C:\\anaconda3_5.2\\lib\\site-packages\\tensorflow_core\\python\\ops\\resource_variable_ops.py:1630: calling BaseResourceVariable.__init__ (from tensorflow.python.ops.resource_variable_ops) with constraint is deprecated and will be removed in a future version.\nInstructions for updating:\nIf using Keras pass *_constraint arguments to layers.\n"
     ]
    }
   ],
   "source": [
    "# 모델을 만듭니다.\n",
    "X = tf.keras.layers.Input(shape=[1]) # 독립변수의 column 개수가 1개여서\n",
    "Y = tf.keras.layers.Dense(1)(X) # 종속변수의 column 개수가 1이어서\n",
    "model = tf.keras.models.Model(X,Y)\n",
    "model.compile(loss='mse')"
   ]
  },
  {
   "cell_type": "code",
   "execution_count": 11,
   "metadata": {},
   "outputs": [
    {
     "output_type": "stream",
     "name": "stdout",
     "text": [
      "Train on 6 samples\n",
      "Epoch 1/10\n",
      "6/6 [==============================] - 0s 499us/sample - loss: 1.3880e-04\n",
      "Epoch 2/10\n",
      "6/6 [==============================] - 0s 517us/sample - loss: 1.3873e-04\n",
      "Epoch 3/10\n",
      "6/6 [==============================] - 0s 520us/sample - loss: 1.3874e-04\n",
      "Epoch 4/10\n",
      "6/6 [==============================] - 0s 653us/sample - loss: 1.3873e-04\n",
      "Epoch 5/10\n",
      "6/6 [==============================] - 0s 605us/sample - loss: 1.3874e-04\n",
      "Epoch 6/10\n",
      "6/6 [==============================] - 0s 321us/sample - loss: 1.3873e-04\n",
      "Epoch 7/10\n",
      "6/6 [==============================] - 0s 499us/sample - loss: 1.3874e-04\n",
      "Epoch 8/10\n",
      "6/6 [==============================] - 0s 554us/sample - loss: 1.3873e-04\n",
      "Epoch 9/10\n",
      "6/6 [==============================] - 0s 872us/sample - loss: 1.3880e-04\n",
      "Epoch 10/10\n",
      "6/6 [==============================] - 0s 2ms/sample - loss: 1.3885e-04\n"
     ]
    },
    {
     "output_type": "execute_result",
     "data": {
      "text/plain": [
       "<tensorflow.python.keras.callbacks.History at 0x1b3f48823c8>"
      ]
     },
     "metadata": {},
     "execution_count": 11
    }
   ],
   "source": [
    "#모델을 학습\n",
    "model.fit(cause, effect, epochs=10) # verbose 출력을 끔"
   ]
  },
  {
   "cell_type": "code",
   "execution_count": 12,
   "metadata": {},
   "outputs": [
    {
     "output_type": "execute_result",
     "data": {
      "text/plain": [
       "array([[39.98951 ],\n",
       "       [41.989002],\n",
       "       [43.9885  ],\n",
       "       [45.987995],\n",
       "       [47.98749 ],\n",
       "       [49.986988]], dtype=float32)"
      ]
     },
     "metadata": {},
     "execution_count": 12
    }
   ],
   "source": [
    "# 모델 이용\n",
    "model.predict(cause)"
   ]
  },
  {
   "cell_type": "code",
   "execution_count": 18,
   "metadata": {},
   "outputs": [
    {
     "output_type": "execute_result",
     "data": {
      "text/plain": [
       "array([[29.99203]], dtype=float32)"
      ]
     },
     "metadata": {},
     "execution_count": 18
    }
   ],
   "source": [
    "model.predict([[15]])"
   ]
  }
 ]
}