{
  "nbformat": 4,
  "nbformat_minor": 0,
  "metadata": {
    "colab": {
      "name": "unit02-서울의 기온 데이터 분석하기.ipynb",
      "provenance": [],
      "authorship_tag": "ABX9TyOvAEtiLsnqb1xbGBaH002i",
      "include_colab_link": true
    },
    "kernelspec": {
      "name": "python3",
      "display_name": "Python 3"
    },
    "language_info": {
      "name": "python"
    }
  },
  "cells": [
    {
      "cell_type": "markdown",
      "metadata": {
        "id": "view-in-github",
        "colab_type": "text"
      },
      "source": [
        "<a href=\"https://colab.research.google.com/github/SangHeeRho/DataScience/blob/main/unit02_%EC%84%9C%EC%9A%B8%EC%9D%98_%EA%B8%B0%EC%98%A8_%EB%8D%B0%EC%9D%B4%ED%84%B0_%EB%B6%84%EC%84%9D%ED%95%98%EA%B8%B0.ipynb\" target=\"_parent\"><img src=\"https://colab.research.google.com/assets/colab-badge.svg\" alt=\"Open In Colab\"/></a>"
      ]
    },
    {
      "cell_type": "markdown",
      "metadata": {
        "id": "4LsswZax2Yss"
      },
      "source": [
        "seoul.csv 파일 읽어오기"
      ]
    },
    {
      "cell_type": "code",
      "metadata": {
        "colab": {
          "base_uri": "https://localhost:8080/"
        },
        "id": "PYp5i8Tu2bXD",
        "outputId": "c555add4-869a-4df7-ba62-449654b0bae2"
      },
      "source": [
        "import csv\n",
        "f = open('/content/seoul.csv','r',encoding='cp949') # encoding = 'EUC-KR 로 해도 됨\n",
        "data = csv.reader(f,delimiter=',')\n",
        "print(data)\n",
        "f.close()"
      ],
      "execution_count": null,
      "outputs": [
        {
          "output_type": "stream",
          "text": [
            "<_csv.reader object at 0x7f59fc9335d0>\n"
          ],
          "name": "stdout"
        }
      ]
    },
    {
      "cell_type": "code",
      "metadata": {
        "id": "0rrRDWtG3l4T"
      },
      "source": [
        "import csv\n",
        "f = open('/content/seoul.csv','r',encoding='cp949') # encoding = 'EUC-KR 로 해도 됨\n",
        "data = csv.reader(f,delimiter=',') # delimiter(구분자) -> , 로 생략가능\n",
        "\n",
        "#데이터를 한줄씩 출력\n",
        "for row in data :\n",
        "  print(row)\n",
        "f.close()"
      ],
      "execution_count": null,
      "outputs": []
    },
    {
      "cell_type": "markdown",
      "metadata": {
        "id": "zHruQm837fFb"
      },
      "source": [
        "헤더 저장하기"
      ]
    },
    {
      "cell_type": "code",
      "metadata": {
        "colab": {
          "base_uri": "https://localhost:8080/"
        },
        "id": "WuqpWjaw5FA6",
        "outputId": "e6cb42ca-7c01-468c-a36c-66239ea2abf4"
      },
      "source": [
        "import csv\n",
        "\n",
        "f = open('/content/seoul.csv','r',encoding='cp949')\n",
        "data = csv.reader(f)\n",
        "header = next(data) # 첫 번째 행을 읽은 후 다음 행으로 이동 시키는 함수\n",
        "print(header)\n",
        "f.close()"
      ],
      "execution_count": null,
      "outputs": [
        {
          "output_type": "stream",
          "text": [
            "['날짜', '지점', '평균기온(℃)', '최저기온(℃)', '최고기온(℃)']\n"
          ],
          "name": "stdout"
        }
      ]
    },
    {
      "cell_type": "code",
      "metadata": {
        "colab": {
          "base_uri": "https://localhost:8080/"
        },
        "id": "17yBmw858FZa",
        "outputId": "e593d07e-23a5-4976-f029-e8e57de5b2dd"
      },
      "source": [
        "import csv\n",
        "\n",
        "f = open('/content/seoul.csv','r',encoding='cp949')\n",
        "data = csv.reader(f)\n",
        "header = next(data) # 첫 번째 행을 읽은 후 다음 행으로 이동 시키는 함수\n",
        "print(header)\n",
        "\n",
        "print(next(data)) # 두 번째 행 읽은 후 다음 행으로 이동\n",
        "f.close()"
      ],
      "execution_count": null,
      "outputs": [
        {
          "output_type": "stream",
          "text": [
            "['날짜', '지점', '평균기온(℃)', '최저기온(℃)', '최고기온(℃)']\n",
            "['1907-10-01', '108', '13.5', '7.9', '20.7']\n"
          ],
          "name": "stdout"
        }
      ]
    },
    {
      "cell_type": "markdown",
      "metadata": {
        "id": "8_T6rhU6IbHl"
      },
      "source": [
        "-> 기상 관측 이래, 서울의 최고 기온이 가장 높았던 날은 언제였고, 몇 도 였을까?\n",
        "날짜, 최고기온 데이터를 사용"
      ]
    },
    {
      "cell_type": "markdown",
      "metadata": {
        "id": "vB2a_zxZIlHx"
      },
      "source": [
        "-> 기상 관측 이래, 서울의 평균 기온이 가장 높았던 날은 언제였고, 몇 도 였을까?\n",
        "날짜, 평균기온 데이터를 사용"
      ]
    },
    {
      "cell_type": "markdown",
      "metadata": {
        "id": "A6KDG0y6I8sY"
      },
      "source": [
        "-> 기상 관측 이래, 서울의 최저 기온이 가장 높았던 날은 언제였고, 몇 도 였을까?\n",
        "날짜, 최저기온 데이터를 사용"
      ]
    },
    {
      "cell_type": "markdown",
      "metadata": {
        "id": "LANVejx2JDj7"
      },
      "source": [
        "-> 기상 관측 이래, 서울의 평균 기온이 가장 낮았던 날은 언제였고, 몇 도 였을까?\n",
        "날짜, 평균기온 데이터를 사용"
      ]
    },
    {
      "cell_type": "code",
      "metadata": {
        "id": "lbLkYb1r8yZz"
      },
      "source": [
        "import csv\n",
        "\n",
        "f = open('/content/seoul.csv','r',encoding='cp949')\n",
        "data = csv.reader(f)\n",
        "header = next(data) # 헤더 추출\n",
        "print(header)\n",
        "\n",
        "#데이터를 한줄씩 출력\n",
        "for row in data :\n",
        "  print(row)\n",
        "\n",
        "f.close()"
      ],
      "execution_count": null,
      "outputs": []
    },
    {
      "cell_type": "markdown",
      "metadata": {
        "id": "5RswBqugIkrk"
      },
      "source": [
        ""
      ]
    },
    {
      "cell_type": "markdown",
      "metadata": {
        "id": "JmubWTnqIZd7"
      },
      "source": [
        ""
      ]
    },
    {
      "cell_type": "code",
      "metadata": {
        "id": "1UD34JNq-stj"
      },
      "source": [
        ""
      ],
      "execution_count": null,
      "outputs": []
    }
  ]
}