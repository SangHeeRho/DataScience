{
  "nbformat": 4,
  "nbformat_minor": 0,
  "metadata": {
    "colab": {
      "name": "프로젝트3)8개 도시별 나이 성별 차이_실습.ipynb",
      "provenance": [],
      "collapsed_sections": [],
      "authorship_tag": "ABX9TyNbN9qvRglaSuHPAd+bYiwq",
      "include_colab_link": true
    },
    "kernelspec": {
      "name": "python3",
      "display_name": "Python 3"
    },
    "language_info": {
      "name": "python"
    }
  },
  "cells": [
    {
      "cell_type": "markdown",
      "metadata": {
        "id": "view-in-github",
        "colab_type": "text"
      },
      "source": [
        "<a href=\"https://colab.research.google.com/github/SangHeeRho/DataScience/blob/main/%ED%94%84%EB%A1%9C%EC%A0%9D%ED%8A%B83)8%EA%B0%9C_%EB%8F%84%EC%8B%9C%EB%B3%84_%EB%82%98%EC%9D%B4_%EC%84%B1%EB%B3%84_%EC%B0%A8%EC%9D%B4_%EC%8B%A4%EC%8A%B5.ipynb\" target=\"_parent\"><img src=\"https://colab.research.google.com/assets/colab-badge.svg\" alt=\"Open In Colab\"/></a>"
      ]
    },
    {
      "cell_type": "code",
      "metadata": {
        "id": "PlxWV63PnG1q"
      },
      "source": [
        "import matplotlib.pyplot as plt\n",
        "import csv\n",
        "f= open('gender.csv',encoding='cp949')\n",
        "data =csv.reader(f)\n",
        "result_Incheon=[] #남여 차이 비율 퍼센트 담을 리스트\n",
        "name_Incheon='인천광역시'\n",
        "for row in data:\n",
        "  if name_Incheon in row[0]:\n",
        "    for i in range(3,104) :\n",
        "      result_Incheon.append((int(row[i].replace(',',''))-int(row[i+103].replace(',','')))/(int(row[i].replace(',',''))+int(row[i+103].replace(',',''))))\n",
        "    break\n",
        "result_Incheon=[i*100 for i in result_Incheon]\n",
        "f.close()\n",
        "print(result_Incheon)"
      ],
      "execution_count": null,
      "outputs": []
    },
    {
      "cell_type": "code",
      "metadata": {
        "id": "ModDVEGRoGdC"
      },
      "source": [
        "import matplotlib.pyplot as plt\n",
        "import csv\n",
        "f= open('gender.csv',encoding='cp949')\n",
        "data =csv.reader(f)\n",
        "result_Gwangju=[] #남여 차이 비율 퍼센트 담을 리스트\n",
        "name_Gwangju='광주광역시'\n",
        "for row in data:\n",
        "  if name_Gwangju in row[0]:\n",
        "    for i in range(3,104) :\n",
        "      result_Gwangju.append((int(row[i].replace(',',''))-int(row[i+103].replace(',','')))/(int(row[i].replace(',',''))+int(row[i+103].replace(',',''))))\n",
        "    break\n",
        "result_Gwangju=[i*100 for i in result_Gwangju]\n",
        "print(result_Gwangju)"
      ],
      "execution_count": null,
      "outputs": []
    },
    {
      "cell_type": "code",
      "metadata": {
        "id": "pWtRc6oboH8x"
      },
      "source": [
        "import matplotlib.pyplot as plt\n",
        "import csv\n",
        "f= open('gender.csv',encoding='cp949')\n",
        "data =csv.reader(f)\n",
        "result_Daejeon=[] #남여 차이 비율 퍼센트 담을 리스트\n",
        "name_Daejeon='대전광역시'\n",
        "for row in data:\n",
        "  if name_Daejeon in row[0]:\n",
        "    for i in range(3,104) :\n",
        "      result_Daejeon.append((int(row[i].replace(',',''))-int(row[i+103].replace(',','')))/(int(row[i].replace(',',''))+int(row[i+103].replace(',',''))))\n",
        "    break\n",
        "result_Daejeon=[i*100 for i in result_Daejeon]\n",
        "print(result_Daejeon)"
      ],
      "execution_count": null,
      "outputs": []
    }
  ]
}