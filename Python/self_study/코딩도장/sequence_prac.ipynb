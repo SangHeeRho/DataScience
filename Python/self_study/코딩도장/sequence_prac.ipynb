{
 "metadata": {
  "language_info": {
   "codemirror_mode": {
    "name": "ipython",
    "version": 3
   },
   "file_extension": ".py",
   "mimetype": "text/x-python",
   "name": "python",
   "nbconvert_exporter": "python",
   "pygments_lexer": "ipython3",
   "version": "3.6.5"
  },
  "orig_nbformat": 4,
  "kernelspec": {
   "name": "python3",
   "display_name": "Python 3.6.5 64-bit ('env_test': venv)"
  },
  "interpreter": {
   "hash": "56cad0cbbcbaf6d2945ef49f18ae1ab92d7b8da57ad5ce4582eca685fdaa740d"
  }
 },
 "nbformat": 4,
 "nbformat_minor": 2,
 "cells": [
  {
   "cell_type": "code",
   "execution_count": null,
   "metadata": {},
   "outputs": [],
   "source": [
    "b = (0, 10, 20, 30, 40, 50, 60, 70, 80, 90)\n",
    "b[:7:2]"
   ]
  },
  {
   "cell_type": "code",
   "execution_count": 3,
   "metadata": {},
   "outputs": [
    {
     "output_type": "stream",
     "name": "stdout",
     "text": [
      "[2016, 2017, 2018]\n[9930616, 9857426, 9838892]\n"
     ]
    }
   ],
   "source": [
    "#11.6 연습문제: 최근 3년간 인구 출력하기\n",
    "#리스트 year에 연도, population에 서울시 인구수가 저장되어 있습니다. 다음 소스 코드를 완성하여 최근 3년간 연도와 인구수가 리스트로 출력되게 만드세요.\n",
    "year = [2011, 2012, 2013, 2014, 2015, 2016, 2017, 2018]\n",
    "population = [10249679, 10195318, 10143645, 10103233, 10022181, 9930616, 9857426, 9838892]\n",
    "print(year[-3:])\n",
    "print(population[-3:])"
   ]
  },
  {
   "cell_type": "code",
   "execution_count": 11,
   "metadata": {},
   "outputs": [
    {
     "output_type": "execute_result",
     "data": {
      "text/plain": [
       "(75, -10, 32, -15, 76, 2)"
      ]
     },
     "metadata": {},
     "execution_count": 11
    }
   ],
   "source": [
    "#11.7 연습문제: 인덱스가 홀수인 요소 출력하기\n",
    "#다음 소스 코드를 완성하여 튜플 n에서 인덱스가 홀수인 요소들이 출력되게 만드세요.\n",
    "n = -32, 75, 97, -10, 9, 32, 4, -15, 0, 76, 14, 2\n",
    "r = tuple(n[1::2])\n",
    "r"
   ]
  },
  {
   "cell_type": "code",
   "execution_count": 13,
   "metadata": {},
   "outputs": [
    {
     "output_type": "stream",
     "name": "stdout",
     "text": [
      "(75, -10, 32, -15, 76, 2)\n(75, -10, 32, -15, 76, 2)\n(75, -10, 32, -15, 76, 2)\n(75, -10, 32, -15, 76, 2)\n"
     ]
    }
   ],
   "source": [
    "#다른 정답\n",
    "# 11.7 연습문제: 인덱스가 홀수인 요소 출력하기\n",
    "#다음 소스 코드를 완성하여 튜플 n에서 인덱스가 홀수인 요소들이 출력되게 만드세요.\n",
    "n = -32, 75, 97, -10, 9, 32, 4, -15, 0, 76, 14, 2\n",
    "print(tuple(n[1::2]))\n",
    "print(n[1::2])\n",
    "print(n[1:12:2])\n",
    "print(n[1:len(n):2])"
   ]
  },
  {
   "cell_type": "code",
   "execution_count": 18,
   "metadata": {},
   "outputs": [
    {
     "output_type": "stream",
     "name": "stdout",
     "text": [
      "['1', '2', '3']\n"
     ]
    }
   ],
   "source": [
    "#표준 입력으로 숫자 또는 문자열 여러 개가 입력되어 리스트 x에 저장됩니다(입력되는 숫자 또는 문자열의 개수는 정해져 있지 않음). 다음 소스 코드를 완성하여 리스트 x의 마지막 요소 5개를 삭제한 뒤 튜플로 출력되게 만드세요.\n",
    "x = input().split()\n",
    "del x[:-5]\n",
    "print(tuple(x))"
   ]
  },
  {
   "cell_type": "code",
   "execution_count": null,
   "metadata": {},
   "outputs": [],
   "source": []
  }
 ]
}