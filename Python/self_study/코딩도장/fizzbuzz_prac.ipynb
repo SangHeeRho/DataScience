{
 "metadata": {
  "language_info": {
   "codemirror_mode": {
    "name": "ipython",
    "version": 3
   },
   "file_extension": ".py",
   "mimetype": "text/x-python",
   "name": "python",
   "nbconvert_exporter": "python",
   "pygments_lexer": "ipython3",
   "version": "3.6.5"
  },
  "orig_nbformat": 4,
  "kernelspec": {
   "name": "python3",
   "display_name": "Python 3.6.5 64-bit ('base': conda)"
  },
  "interpreter": {
   "hash": "e55bb66ab1794c2910d7df6756168b78814621a9f8b3b83bebdd00d3ee78f4c3"
  }
 },
 "nbformat": 4,
 "nbformat_minor": 2,
 "cells": [
  {
   "cell_type": "code",
   "execution_count": 5,
   "metadata": {},
   "outputs": [
    {
     "output_type": "stream",
     "name": "stdout",
     "text": [
      "2\n3\n4\nFizz\n6\nBuzz\n8\n9\nFizz\n"
     ]
    }
   ],
   "source": [
    "# 첫 번째 방법\n",
    "#표준 입력으로 정수 두 개가 입력됩니다(첫 번째 입력 값의 범위는 1~1000,\n",
    "#두 번째 입력 값의 범위는 10~1000이며 첫 번째 입력 값은 두 번째 입력 값보다 항상 작습니다).\n",
    "#첫 번째 정수부터 두 번째 정수까지 숫자를 출력하면서\n",
    "# 5의 배수일 때는 'Fizz', 7의 배수일 때는 'Buzz',\n",
    "#5와 7의 공배수일 때는 'FizzBuzz'를 출력하는 프로그램을 만드세요\n",
    "#(input에서 안내 문자열은 출력하지 않아야 합니다).\n",
    "\n",
    "a,b = map(int,input().split())\n",
    "for i in range(a, b+1):\n",
    "    print('Fizz'*(i % 5 == 0) + 'Buzz'*(i % 7 == 0) or i )"
   ]
  },
  {
   "cell_type": "code",
   "execution_count": 6,
   "metadata": {},
   "outputs": [
    {
     "output_type": "stream",
     "name": "stdout",
     "text": [
      "d\ne\n"
     ]
    }
   ],
   "source": [
    "#문자열 두 개 입력\n",
    "a,b = input('문자열 두 개를 입력하세요: ').split( )\n",
    "print(a)\n",
    "print(b)"
   ]
  }
 ]
}